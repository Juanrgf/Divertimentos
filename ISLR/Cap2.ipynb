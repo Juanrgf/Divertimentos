{
 "cells": [
  {
   "cell_type": "markdown",
   "id": "13f75402-8aef-42f9-96e2-62eff5710e97",
   "metadata": {},
   "source": [
    "# An Introduction to Statistical Learning\n",
    "## with Applications in R"
   ]
  },
  {
   "cell_type": "markdown",
   "id": "4492e172-3e59-46ea-b274-f04c8096069f",
   "metadata": {},
   "source": [
    "8. This exercise relates to the ```College``` data set, which can be found in the ﬁle ```College.csv``` . It contains a number of variables for 777 diﬀerent universities and colleges in the US. The variables are\n",
    "\n",
    "    * ```Private``` : Public/private indicator\n",
    "    * ```Apps``` : Number of applications received\n",
    "    * ```Accept``` : Number of applicants accepted\n",
    "    * ```Enroll``` : Number of new students enrolled\n",
    "    * ```Top10perc``` : New students from top 10 % of high school class\n",
    "    * ```Top25perc``` : New students from top 25 % of high school class\n",
    "    * ```F.Undergrad``` : Number of full-time undergraduates\n",
    "    * ```P.Undergrad``` : Number of part-time undergraduates\n",
    "    * ```Outstate``` : Out-of-state tuition\n",
    "    * ```Room.Board``` : Room and board costs\n",
    "    * ```Books``` : Estimated book costs\n",
    "    * ```Personal``` : Estimated personal spending\n",
    "    * ```PhD``` : Percent of faculty with Ph.D.’s\n",
    "    * ```Terminal``` : Percent of faculty with terminal degree\n",
    "    * ```S.F.Ratio``` : Student/faculty ratio\n",
    "    * ```perc.alumni``` : Percent of alumni who donate\n",
    "    * ```Expend``` : Instructional expenditure per student\n",
    "    * ```Grad.Rate``` : Graduation rate\n",
    "\n",
    "Before reading the data into ```R``` , it can be viewed in Excel or a text\n",
    "editor."
   ]
  },
  {
   "cell_type": "code",
   "execution_count": null,
   "id": "7d2d35a0-bd65-456f-982d-4556d2210743",
   "metadata": {},
   "outputs": [],
   "source": []
  }
 ],
 "metadata": {
  "kernelspec": {
   "display_name": "Python 3 (ipykernel)",
   "language": "python",
   "name": "python3"
  },
  "language_info": {
   "codemirror_mode": {
    "name": "ipython",
    "version": 3
   },
   "file_extension": ".py",
   "mimetype": "text/x-python",
   "name": "python",
   "nbconvert_exporter": "python",
   "pygments_lexer": "ipython3",
   "version": "3.9.7"
  }
 },
 "nbformat": 4,
 "nbformat_minor": 5
}
