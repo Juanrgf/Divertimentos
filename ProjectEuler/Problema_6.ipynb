{
 "cells": [
  {
   "cell_type": "markdown",
   "id": "3c824feb",
   "metadata": {},
   "source": [
    "# Project Euler\n",
    "## Problema 6\n",
    "\n",
    "El problema 6 dice lo siguiente:\n",
    "\n",
    "---\n",
    "*The sum of the squares of the first ten natural numbers is,*\n",
    "\n",
    "$$1^2+2^2+\\dots+10^2=385$$\n",
    "\n",
    "*The square of the sum of the first ten natural numbers is,*\n",
    "\n",
    "$$(1+2+\\dots+10)^2=3025$$\n",
    "\n",
    "*Hence the difference between the sum of the squares of the first ten natural numbers and the square of the sum is $3025-385=2640$.*\n",
    "\n",
    "*Find the difference between the sum of the squares of the first one hundred natural numbers and the square of the sum.*\n",
    "\n",
    "---"
   ]
  },
  {
   "cell_type": "markdown",
   "id": "c8e7690d",
   "metadata": {},
   "source": [
    "Para resolver este ejercicio basta un poco de conocimiento de matemáticas, pues se disponen de fórmulas para calcular la suma de los primeros $n$ números y de los primeros $n$ números al cuadrado, así:\n",
    "\n",
    "$$\\sum_{k=1}^n k = \\frac{n(n+1)}{2}$$\n",
    "\n",
    "$$\\sum_{k=1}^n k^2 = \\frac{n(n+1)(2n+1)}{6}$$"
   ]
  },
  {
   "cell_type": "markdown",
   "id": "077acf74",
   "metadata": {},
   "source": [
    "Por lo que para resolver el problema basta usar estas fórmulas. Se tiene así que:"
   ]
  },
  {
   "cell_type": "code",
   "execution_count": 1,
   "id": "735979b1",
   "metadata": {},
   "outputs": [],
   "source": [
    "sum_n = lambda n: (n*(n+1))//2\n",
    "sum_n2 = lambda n: (n*(n+1)*(2*n+1))//6"
   ]
  },
  {
   "cell_type": "markdown",
   "id": "6f1a4a49",
   "metadata": {},
   "source": [
    "Así por ejemplo la suma de los primeros diez números al cuadrado es:"
   ]
  },
  {
   "cell_type": "code",
   "execution_count": 2,
   "id": "bd08a90f",
   "metadata": {},
   "outputs": [
    {
     "data": {
      "text/plain": [
       "385"
      ]
     },
     "execution_count": 2,
     "metadata": {},
     "output_type": "execute_result"
    }
   ],
   "source": [
    "sum_n2(10)"
   ]
  },
  {
   "cell_type": "markdown",
   "id": "7b7192a8",
   "metadata": {},
   "source": [
    "Y el cuadrado de la suma de los primeros 10 números es:"
   ]
  },
  {
   "cell_type": "code",
   "execution_count": 3,
   "id": "1cbb1463",
   "metadata": {},
   "outputs": [
    {
     "data": {
      "text/plain": [
       "3025"
      ]
     },
     "execution_count": 3,
     "metadata": {},
     "output_type": "execute_result"
    }
   ],
   "source": [
    "(sum_n(10))**2"
   ]
  },
  {
   "cell_type": "markdown",
   "id": "3055b613",
   "metadata": {},
   "source": [
    "Así ya podemos resolver el problema 6:"
   ]
  },
  {
   "cell_type": "code",
   "execution_count": 4,
   "id": "35ff89d2",
   "metadata": {},
   "outputs": [
    {
     "name": "stdout",
     "output_type": "stream",
     "text": [
      "La diferencia del cuadrado de los primeros 100 naturales y la suma de sus cuadrados es 25164150\n"
     ]
    }
   ],
   "source": [
    "num = 100\n",
    "res = (sum_n(num))**2 - sum_n2(num)\n",
    "print(f'La diferencia del cuadrado de los primeros {num} naturales y la suma de sus cuadrados es {res}')"
   ]
  }
 ],
 "metadata": {
  "kernelspec": {
   "display_name": "Python 3 (ipykernel)",
   "language": "python",
   "name": "python3"
  },
  "language_info": {
   "codemirror_mode": {
    "name": "ipython",
    "version": 3
   },
   "file_extension": ".py",
   "mimetype": "text/x-python",
   "name": "python",
   "nbconvert_exporter": "python",
   "pygments_lexer": "ipython3",
   "version": "3.9.7"
  }
 },
 "nbformat": 4,
 "nbformat_minor": 5
}
