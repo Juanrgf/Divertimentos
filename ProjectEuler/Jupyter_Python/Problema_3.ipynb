{
 "cells": [
  {
   "cell_type": "markdown",
   "id": "eec04c37",
   "metadata": {},
   "source": [
    "# Project Euler\n",
    "## Problema 3\n",
    "\n",
    "El problema 3 del Project Euler dice lo siguiente:\n",
    "\n",
    "---\n",
    "*The prime factors of 13195 are 5, 7, 13 and 29.*\n",
    "\n",
    "*What is the largest prime factor of the number 600851475143?*\n",
    "\n",
    "---"
   ]
  },
  {
   "cell_type": "markdown",
   "id": "652e8327",
   "metadata": {},
   "source": [
    "El problema nos pide el factor primo más grande del número 600851475143.\n",
    "\n",
    "Para poder resolver el problema podemos hacer una función que nos devuelva el factor primo más grande de un numero ```n```.\n",
    "\n",
    "La función realizada se llama ```primo_max``` la cual recibe un número y a partir de ahí itera hasta encontrar divisores. Una vez que ha encontrado un divisor la función se repite nuevamente. En caso de que el número ya no tenga divisores querrá decir que hemos llegado al factor primo más grande, en dicho caso hemos terminado.\n",
    "\n",
    "Así el problema 3 es solo un caso particular de nuestra función ```primo_max``` cuando el argumento ```num``` toma el valor de 600851475143."
   ]
  },
  {
   "cell_type": "code",
   "execution_count": 1,
   "id": "ca3fac31",
   "metadata": {},
   "outputs": [
    {
     "name": "stdout",
     "output_type": "stream",
     "text": [
      "El factor primo más grande que divide a 600851475143 es 6857\n"
     ]
    }
   ],
   "source": [
    "num = 600_851_475_143\n",
    "\n",
    "def primo_max(num):\n",
    "    for i in range(2, num):\n",
    "        if num%i == 0:\n",
    "            return primo_max(num//i)\n",
    "    return num\n",
    "\n",
    "print(f'El factor primo más grande que divide a {num} es {primo_max(num)}')"
   ]
  }
 ],
 "metadata": {
  "kernelspec": {
   "display_name": "Python 3 (ipykernel)",
   "language": "python",
   "name": "python3"
  },
  "language_info": {
   "codemirror_mode": {
    "name": "ipython",
    "version": 3
   },
   "file_extension": ".py",
   "mimetype": "text/x-python",
   "name": "python",
   "nbconvert_exporter": "python",
   "pygments_lexer": "ipython3",
   "version": "3.9.7"
  }
 },
 "nbformat": 4,
 "nbformat_minor": 5
}
