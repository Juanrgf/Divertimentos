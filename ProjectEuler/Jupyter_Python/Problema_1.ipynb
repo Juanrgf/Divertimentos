{
 "cells": [
  {
   "cell_type": "markdown",
   "id": "8bb74abb",
   "metadata": {},
   "source": [
    "# Project Euler\n",
    "## Problema 1\n",
    "\n",
    "Este cuaderno contiene la solución al problema 1 del ProjectEuler, el cual dice lo siguiente:\n",
    "\n",
    "---\n",
    "*If we list all the natural numbers below 10 that are multiples of 3 or 5, we get 3, 5, 6 and 9. The sum of these multiples is 23.*\n",
    "\n",
    "*Find the sum of all the multiples of 3 or 5 below 1000.*\n",
    "\n",
    "---\n",
    "\n",
    "El problema nos pide encontrar la suma de los múltiplos de 3 y 5 que son menores que 1000.\n",
    "\n",
    "Esto se puede realizar facilmente a partir de comprensión de listas. Creamos una para los múltiplos de 3 menores que 1000 y otra para los múltiplos de 5 menores que 1000.\n",
    "\n",
    "Cabe aclarar que en estas listas, creadas a la manera descrita arriba, los múltiplos de 15 aparecerán 2 veces, por lo que es necesario quitar los múltiplos de 15 en una lista para no contarlos dos veces. Eso se hace en la segunda lista.\n",
    "\n",
    "Finalmente se suman los elementos de las listas para obtener el resultado deseado."
   ]
  },
  {
   "cell_type": "code",
   "execution_count": 1,
   "id": "852e1946",
   "metadata": {},
   "outputs": [
    {
     "name": "stdout",
     "output_type": "stream",
     "text": [
      "La suma de los múltiplos de 3 y 5 que son menores que 1000 es 233168\n"
     ]
    }
   ],
   "source": [
    "mult_3 = sum([3*i for i in range(1000) if 3*i < 1000])\n",
    "mult_5 = sum([5*i for i in range(1000) if 5*i < 1000 and 5*i%3 != 0])\n",
    "print(f'La suma de los múltiplos de 3 y 5 que son menores que 1000 es {mult_3+mult_5}')"
   ]
  }
 ],
 "metadata": {
  "kernelspec": {
   "display_name": "Python 3 (ipykernel)",
   "language": "python",
   "name": "python3"
  },
  "language_info": {
   "codemirror_mode": {
    "name": "ipython",
    "version": 3
   },
   "file_extension": ".py",
   "mimetype": "text/x-python",
   "name": "python",
   "nbconvert_exporter": "python",
   "pygments_lexer": "ipython3",
   "version": "3.9.7"
  }
 },
 "nbformat": 4,
 "nbformat_minor": 5
}
