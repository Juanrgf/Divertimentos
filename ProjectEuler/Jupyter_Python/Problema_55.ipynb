{
 "cells": [
  {
   "cell_type": "markdown",
   "id": "88042ec4-cc48-428d-a86a-29921f0b1339",
   "metadata": {},
   "source": [
    "# Project Euler\n",
    "## Problema 55\n",
    "\n",
    "El problema 55 dice lo siguiente:\n",
    "\n",
    "---\n",
    "*If we take 47, reverse and add, 47 + 74 = 121, which is palindromic.*\n",
    "\n",
    "*Not all numbers produce palindromes so quickly. For example,*\n",
    "\n",
    "349 + 943 = 1292,\n",
    "1292 + 2921 = 4213\n",
    "4213 + 3124 = 7337\n",
    "\n",
    "*That is, 349 took three iterations to arrive at a palindrome.*\n",
    "\n",
    "*Although no one has proved it yet, it is thought that some numbers, like 196, never produce a palindrome. A number that never forms a palindrome through the reverse and add process is called a Lychrel number. Due to the theoretical nature of these numbers, and for the purpose of this problem, we shall assume that a number is Lychrel until proven otherwise. In addition you are given that for every number below ten-thousand, it will either (i) become a palindrome in less than fifty iterations, or, (ii) no one, with all the computing power that exists, has managed so far to map it to a palindrome. In fact, 10677 is the first number to be shown to require over fifty iterations before producing a palindrome: 4668731596684224866951378664 (53 iterations, 28-digits).*\n",
    "\n",
    "*Surprisingly, there are palindromic numbers that are themselves Lychrel numbers; the first example is 4994.*\n",
    "\n",
    "*How many Lychrel numbers are there below ten-thousand?*\n",
    "\n",
    "---"
   ]
  },
  {
   "cell_type": "markdown",
   "id": "b74a5015-330b-41f5-b3fb-5a0df6907b92",
   "metadata": {},
   "source": [
    "Este problema nos habla de un tipo de números llamados los números de Lychrel, los cuales son números que no forman palíndromos cuando se suman entre si el número y su reverso. Por lo que para resolver el problema debemos ser capaces de hacer una función que haga la suma de un número y su reverso. Así se tiene:"
   ]
  },
  {
   "cell_type": "code",
   "execution_count": 1,
   "id": "35155fd1-93ec-4916-848d-7a5547e98f41",
   "metadata": {},
   "outputs": [],
   "source": [
    "def suma_str(num):\n",
    "    num_str = str(num)\n",
    "    mun_str = num_str[::-1]\n",
    "    return num + int(mun_str)"
   ]
  },
  {
   "cell_type": "markdown",
   "id": "b9645e7b-dc49-4772-a4d9-1fd9b38e5ae0",
   "metadata": {},
   "source": [
    "Así la función ```suma_str``` recibe un número entero y regresa la suma de él y su inverso. Veamos un ejemplo:"
   ]
  },
  {
   "cell_type": "code",
   "execution_count": 2,
   "id": "799405a0-e919-4988-b38c-6279da53d265",
   "metadata": {},
   "outputs": [
    {
     "data": {
      "text/plain": [
       "121"
      ]
     },
     "execution_count": 2,
     "metadata": {},
     "output_type": "execute_result"
    }
   ],
   "source": [
    "suma_str(47)"
   ]
  },
  {
   "cell_type": "markdown",
   "id": "b73442ab-b512-4e5e-9f07-c7b7f89c02f9",
   "metadata": {},
   "source": [
    "Ya con esta función implementada requerimos de otra función que nos diga cuando un número es un palíndromo, pero dicha función (o una parecida) ya había sido construida para resolver el problema 4. Usemos dicha función entonces:"
   ]
  },
  {
   "cell_type": "code",
   "execution_count": 3,
   "id": "9ac66f81-4748-4213-95b2-b3802b2e1ecd",
   "metadata": {},
   "outputs": [],
   "source": [
    "def ind_palindromic(num):\n",
    "    cad = str(num) \n",
    "    n = len(cad)\n",
    "    for i in range(n//2):\n",
    "        if cad[i] != cad[-(i+1)]:\n",
    "            return False\n",
    "    return True"
   ]
  },
  {
   "cell_type": "markdown",
   "id": "44382e50-077e-470a-abdd-90c22c2af66e",
   "metadata": {},
   "source": [
    "Así ```ind_palindromic``` es una función indicadora que nos dice cuando un número es un palíndromo. Veamos un ejemplo:"
   ]
  },
  {
   "cell_type": "code",
   "execution_count": 4,
   "id": "36443761-8338-47d9-9461-2691fd2211d8",
   "metadata": {},
   "outputs": [
    {
     "data": {
      "text/plain": [
       "True"
      ]
     },
     "execution_count": 4,
     "metadata": {},
     "output_type": "execute_result"
    }
   ],
   "source": [
    "ind_palindromic(suma_str(47))"
   ]
  },
  {
   "cell_type": "markdown",
   "id": "8ee7a75b-5b26-457f-b5a8-d3188c53425d",
   "metadata": {},
   "source": [
    "Con estas dos funciones ya podemos resolver el problema. La ruta a seguir será crear una función indicadora que nos diga cuando un número es un número de Lychrel. Para construirla usamos el hecho de que para los números menores a 10000 nos tomará menos de 50 iteraciones saber si es o no un número de Lychrel."
   ]
  },
  {
   "cell_type": "code",
   "execution_count": 5,
   "id": "2ab0704c-0f79-49f9-86f7-49d833d1d3f4",
   "metadata": {},
   "outputs": [],
   "source": [
    "def lychrel_ind(num, show_details = False):\n",
    "    init, i = num, 0\n",
    "    while i < 50:\n",
    "        num = suma_str(num)\n",
    "        i += 1\n",
    "        if ind_palindromic(num):\n",
    "            if show_details:\n",
    "                return False, init, num, i\n",
    "            else:\n",
    "                return False\n",
    "    return True"
   ]
  },
  {
   "cell_type": "markdown",
   "id": "4539dc4e-6b81-47e6-8d36-562abe681ae8",
   "metadata": {},
   "source": [
    "```lychrel_ind``` es una función que recibe un número y nos retorna si dicho número es un número de Lychrel. El parámetro adicional es para mostrar el número final y los pasos requeridos para llegar a dicho número.\n",
    "\n",
    "Creo que un ejemplo dice más que el código así que vamos a probar la función con los ejemplos que nos da el problema:"
   ]
  },
  {
   "cell_type": "code",
   "execution_count": 6,
   "id": "148682c1-67ef-418f-9f6b-24cc9216db84",
   "metadata": {},
   "outputs": [
    {
     "data": {
      "text/plain": [
       "(False, 47, 121, 1)"
      ]
     },
     "execution_count": 6,
     "metadata": {},
     "output_type": "execute_result"
    }
   ],
   "source": [
    "lychrel_ind(47, show_details=True)"
   ]
  },
  {
   "cell_type": "markdown",
   "id": "89131b66-9cca-4d66-9162-31ecf4d13667",
   "metadata": {},
   "source": [
    "Así vemos que el número 47 no es un número de Lychrel porque al sumarlo con su inverso 1 vez se obtiene un palíndromo. Veamos el siguiente ejemplo:"
   ]
  },
  {
   "cell_type": "code",
   "execution_count": 7,
   "id": "a9f7abd9-106b-41a3-adf5-eaf8e4957e06",
   "metadata": {},
   "outputs": [
    {
     "data": {
      "text/plain": [
       "(False, 349, 7337, 3)"
      ]
     },
     "execution_count": 7,
     "metadata": {},
     "output_type": "execute_result"
    }
   ],
   "source": [
    "lychrel_ind(349, show_details=True)"
   ]
  },
  {
   "cell_type": "markdown",
   "id": "e2374a89-9292-439c-86aa-35e71f13220f",
   "metadata": {},
   "source": [
    "El 349 tampoco es un número de Lychrel pues al repetir el proceso de sumar con su inverso 3 veces se alcanza un palíndromo. Probemos el último ejemplo:"
   ]
  },
  {
   "cell_type": "code",
   "execution_count": 8,
   "id": "3ab1516a-021b-4d06-a0e5-30115aee13b2",
   "metadata": {},
   "outputs": [
    {
     "data": {
      "text/plain": [
       "True"
      ]
     },
     "execution_count": 8,
     "metadata": {},
     "output_type": "execute_result"
    }
   ],
   "source": [
    "lychrel_ind(196, show_details=True)"
   ]
  },
  {
   "cell_type": "markdown",
   "id": "2c406cb5-474a-4ccb-812f-4380dcf9be65",
   "metadata": {},
   "source": [
    "El 196 sí es un número de Lychrel.\n",
    "\n",
    "Ya con esto podemos resolver el problema:"
   ]
  },
  {
   "cell_type": "code",
   "execution_count": 9,
   "id": "e06609f8-70ba-46f0-b697-68351a8f53e3",
   "metadata": {},
   "outputs": [
    {
     "name": "stdout",
     "output_type": "stream",
     "text": [
      "La cantidad de números de Lychrel que hay por debajo de 10000 son 249\n"
     ]
    }
   ],
   "source": [
    "cota = 10_000\n",
    "l = list(filter(lychrel_ind, range(10, cota)))\n",
    "n = len(l)\n",
    "\n",
    "print(f'La cantidad de números de Lychrel que hay por debajo de {cota} son {n}')"
   ]
  }
 ],
 "metadata": {
  "kernelspec": {
   "display_name": "Python 3 (ipykernel)",
   "language": "python",
   "name": "python3"
  },
  "language_info": {
   "codemirror_mode": {
    "name": "ipython",
    "version": 3
   },
   "file_extension": ".py",
   "mimetype": "text/x-python",
   "name": "python",
   "nbconvert_exporter": "python",
   "pygments_lexer": "ipython3",
   "version": "3.9.7"
  }
 },
 "nbformat": 4,
 "nbformat_minor": 5
}
