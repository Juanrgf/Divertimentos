{
 "cells": [
  {
   "cell_type": "markdown",
   "id": "9b08d6f6-085c-462e-a17b-77e0ea2dd8d4",
   "metadata": {},
   "source": [
    "# Project Euler\n",
    "## Problema 56\n",
    "\n",
    "El problema 56 dice lo siguiente:\n",
    "\n",
    "---\n",
    "*A googol ($10^{100}$) is a massive number: one followed by one-hundred zeros; $100^{100}$ is almost unimaginably large: one followed by two-hundred zeros. Despite their size, the sum of the digits in each number is only $1$.*\n",
    "\n",
    "*Considering natural numbers of the form, $a^b$, where $a, b < 100$, what is the maximum digital sum?*\n",
    "\n",
    "---"
   ]
  },
  {
   "cell_type": "markdown",
   "id": "a9471b54-5c5c-4af4-86d4-ec2031cfe5fb",
   "metadata": {},
   "source": [
    "Este problema parece sencillo de resolver sin consideraciones adicionales. Solo basta hacer una función que nos sume los dígitos de un número:"
   ]
  },
  {
   "cell_type": "code",
   "execution_count": 1,
   "id": "370e3838-9f71-4f17-8a77-2382ceebcff3",
   "metadata": {},
   "outputs": [],
   "source": [
    "def sum_digits(num):\n",
    "    l = [int(i) for i in str(num)]\n",
    "    return sum(l)"
   ]
  },
  {
   "cell_type": "markdown",
   "id": "978e611b-dbdd-4f6a-b844-dceaa47372da",
   "metadata": {},
   "source": [
    "Veamos el ejemplo del $10^{100}$:"
   ]
  },
  {
   "cell_type": "code",
   "execution_count": 2,
   "id": "74ced9b8-187a-419e-8c1d-d0c069383c00",
   "metadata": {},
   "outputs": [
    {
     "data": {
      "text/plain": [
       "1"
      ]
     },
     "execution_count": 2,
     "metadata": {},
     "output_type": "execute_result"
    }
   ],
   "source": [
    "sum_digits(10**100)"
   ]
  },
  {
   "cell_type": "markdown",
   "id": "3bd6168b-b380-453f-903e-887ad7271446",
   "metadata": {},
   "source": [
    "Ahora, para resolver el problema basta con iterar dos números del 1 al 100, calcular su suma y ver si es la más grande:"
   ]
  },
  {
   "cell_type": "code",
   "execution_count": 3,
   "id": "d134017c-29aa-4ad7-bfe1-0d186b2ffcd9",
   "metadata": {},
   "outputs": [],
   "source": [
    "suma = 0\n",
    "for a in range(100):\n",
    "    for b in range(100):\n",
    "        num = sum_digits(a**b)\n",
    "        if num > suma:\n",
    "            suma = num"
   ]
  },
  {
   "cell_type": "code",
   "execution_count": 4,
   "id": "d52ac00f-5c46-46f3-a004-c3c99bc568bc",
   "metadata": {},
   "outputs": [
    {
     "name": "stdout",
     "output_type": "stream",
     "text": [
      "El número cuya suma de dígitos es más grande es 99^99 la cual es 972\n"
     ]
    }
   ],
   "source": [
    "print(f'El número cuya suma de dígitos es más grande es {a}^{b} la cual es {suma}')"
   ]
  }
 ],
 "metadata": {
  "kernelspec": {
   "display_name": "Python 3 (ipykernel)",
   "language": "python",
   "name": "python3"
  },
  "language_info": {
   "codemirror_mode": {
    "name": "ipython",
    "version": 3
   },
   "file_extension": ".py",
   "mimetype": "text/x-python",
   "name": "python",
   "nbconvert_exporter": "python",
   "pygments_lexer": "ipython3",
   "version": "3.9.7"
  }
 },
 "nbformat": 4,
 "nbformat_minor": 5
}
