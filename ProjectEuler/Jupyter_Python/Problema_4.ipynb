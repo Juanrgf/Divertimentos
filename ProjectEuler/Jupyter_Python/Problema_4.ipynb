{
 "cells": [
  {
   "cell_type": "markdown",
   "id": "cfd3c2c4",
   "metadata": {},
   "source": [
    "# Project Euler\n",
    "## Problema 4\n",
    "\n",
    "El problema 4 dice lo siguiente:\n",
    "\n",
    "---\n",
    "*A palindromic number reads the same both ways. The largest palindrome made from the product of two 2-digit numbers is 9009 = 91 × 99.*\n",
    "\n",
    "*Find the largest palindrome made from the product of two 3-digit numbers.*\n",
    "\n",
    "---"
   ]
  },
  {
   "cell_type": "markdown",
   "id": "07341cde",
   "metadata": {},
   "source": [
    "Para resolver este problema primero listemos los productos de números de tres dígitos, esto es los productos entre números del 100 al 999:"
   ]
  },
  {
   "cell_type": "code",
   "execution_count": 1,
   "id": "4fb0b97c",
   "metadata": {},
   "outputs": [],
   "source": [
    "lista = [str(i*j) for i in range(100, 1000) for j in range(100, 1000)]"
   ]
  },
  {
   "cell_type": "markdown",
   "id": "11abd755",
   "metadata": {},
   "source": [
    "Ya con los números listados vamos a buscar palíndromos. Para esto creamos una función que recibe una cadena y verifica si dicha cadena es un palíndromo. Esta función funciona de la siguiente forma, al recibir una cadena va iterando hasta la mitad de la longitud de la cadena, en caso de que la cadena tenga longitud impar nos basta la división entera, la función va verificando que cada dígito sea igual a su reflejado. En caso de no ser así la cadena no es un palíndromo, en otro caso se tiene un palíndromo. "
   ]
  },
  {
   "cell_type": "code",
   "execution_count": 2,
   "id": "2eaba9a3",
   "metadata": {},
   "outputs": [],
   "source": [
    "def ind_palindromic(str):\n",
    "    n = len(str)\n",
    "    for i in range(n//2):\n",
    "        if str[i] != str[-(i+1)]:\n",
    "            return False\n",
    "    return True"
   ]
  },
  {
   "cell_type": "markdown",
   "id": "7988ffa5",
   "metadata": {},
   "source": [
    "Ya con la función implementada basta filtrar ```lista``` en función de nuestra función indicadora de palíndromos:"
   ]
  },
  {
   "cell_type": "code",
   "execution_count": 3,
   "id": "831cb497",
   "metadata": {},
   "outputs": [],
   "source": [
    "palindrom = filter(ind_palindromic, lista)"
   ]
  },
  {
   "cell_type": "markdown",
   "id": "c10f871d",
   "metadata": {},
   "source": [
    "Finalmente obtenemos el número más grande de dicha lista:"
   ]
  },
  {
   "cell_type": "code",
   "execution_count": 4,
   "id": "2cf66357",
   "metadata": {},
   "outputs": [
    {
     "name": "stdout",
     "output_type": "stream",
     "text": [
      "El palíndromo más grande que se puede crear como producto de dos números de tres dígitos es 906609\n"
     ]
    }
   ],
   "source": [
    "result = max([int(i) for i in palindrom])\n",
    "print(f'El palíndromo más grande que se puede crear como producto de dos números de tres dígitos es {result}')"
   ]
  }
 ],
 "metadata": {
  "kernelspec": {
   "display_name": "Python 3 (ipykernel)",
   "language": "python",
   "name": "python3"
  },
  "language_info": {
   "codemirror_mode": {
    "name": "ipython",
    "version": 3
   },
   "file_extension": ".py",
   "mimetype": "text/x-python",
   "name": "python",
   "nbconvert_exporter": "python",
   "pygments_lexer": "ipython3",
   "version": "3.9.7"
  }
 },
 "nbformat": 4,
 "nbformat_minor": 5
}
