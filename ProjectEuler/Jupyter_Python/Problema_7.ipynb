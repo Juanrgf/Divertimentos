{
 "cells": [
  {
   "cell_type": "markdown",
   "id": "dd463f90",
   "metadata": {},
   "source": [
    "# Project Euler\n",
    "## Problema 7\n",
    "\n",
    "El problema 7 dice lo siguiente:\n",
    "\n",
    "---\n",
    "*By listing the first six prime numbers: 2, 3, 5, 7, 11, and 13, we can see that the 6th prime is 13.*\n",
    "\n",
    "*What is the 10 001st prime number?*\n",
    "\n",
    "---"
   ]
  },
  {
   "cell_type": "markdown",
   "id": "f0586e1d",
   "metadata": {},
   "source": [
    "El problema nos pide encontrar el primo que ocupa la posición 10001 en el conjunto de los números primos.\n",
    "\n",
    "Para resolver este problema requerimos primero de una función que nos diga cuando un número es primo. La función indicadora de primos ya se había realizado en otro problema, pero al no ser tan complicada de hacer volvamos a replicarla:"
   ]
  },
  {
   "cell_type": "code",
   "execution_count": 1,
   "id": "8062fb63",
   "metadata": {},
   "outputs": [],
   "source": [
    "def primo_ind(num):\n",
    "    for i in range(2, num):\n",
    "        if num%i == 0:\n",
    "            return False\n",
    "    return True"
   ]
  },
  {
   "cell_type": "markdown",
   "id": "6d00944a",
   "metadata": {},
   "source": [
    "Así tenemos una función que retorna ```True``` o ```False``` si el argumento es o no es un número primo.\n",
    "\n",
    "Ahora, para atacar el problema debemos encontrar el primo que ocupa cierta posición, para ello creamos una función que reciba la cota que queremos para ese primo y nos retorne el primo que ocupa dicha posición.\n",
    "\n",
    "Esta función lo que hace es ir iterando enteros y verificando en cada paso si dicho entero es primo o no (con la función indicadora) en caso de que lo sea guardamos la posición en una variable y seguimos iterando. El ciclo termina cuando se ha alcanzado la cota establecida, ese es el número primo que estamos buscando."
   ]
  },
  {
   "cell_type": "code",
   "execution_count": 2,
   "id": "5a762a0d",
   "metadata": {},
   "outputs": [],
   "source": [
    "def primo_n(cota):\n",
    "    num, i = 2, 1\n",
    "    while True:\n",
    "        if primo_ind(num) == True and i == cota:\n",
    "            return num\n",
    "        elif primo_ind(num) == True:\n",
    "            num += 1\n",
    "            i += 1\n",
    "        else:\n",
    "            num += 1"
   ]
  },
  {
   "cell_type": "markdown",
   "id": "06d6f575",
   "metadata": {},
   "source": [
    "La función ```primo_n``` recibe un número entero y retorna el número primo que ocupa dicha posición. Probemos la función con el ejemplo que se presenta al inicio del problema:"
   ]
  },
  {
   "cell_type": "code",
   "execution_count": 3,
   "id": "0d7898cb",
   "metadata": {},
   "outputs": [
    {
     "name": "stdout",
     "output_type": "stream",
     "text": [
      "El número primo que ocupa la posición 6 es el 13\n"
     ]
    }
   ],
   "source": [
    "pos = 6\n",
    "print(f'El número primo que ocupa la posición {pos} es el {primo_n(pos)}')"
   ]
  },
  {
   "cell_type": "markdown",
   "id": "3b6f53d2",
   "metadata": {},
   "source": [
    "Con todo esto ya podemos resolver el problema:"
   ]
  },
  {
   "cell_type": "code",
   "execution_count": 4,
   "id": "2024cff4",
   "metadata": {},
   "outputs": [
    {
     "name": "stdout",
     "output_type": "stream",
     "text": [
      "El número primo que ocupa la posición 10001 es el 104743\n"
     ]
    }
   ],
   "source": [
    "pos = 10_001\n",
    "print(f'El número primo que ocupa la posición {pos} es el {primo_n(pos)}')"
   ]
  },
  {
   "cell_type": "markdown",
   "id": "4f466531",
   "metadata": {},
   "source": [
    "Cabe aclarar que la función tarda un poco en calcular un primo en una posición tan lejana."
   ]
  }
 ],
 "metadata": {
  "kernelspec": {
   "display_name": "Python 3 (ipykernel)",
   "language": "python",
   "name": "python3"
  },
  "language_info": {
   "codemirror_mode": {
    "name": "ipython",
    "version": 3
   },
   "file_extension": ".py",
   "mimetype": "text/x-python",
   "name": "python",
   "nbconvert_exporter": "python",
   "pygments_lexer": "ipython3",
   "version": "3.9.7"
  }
 },
 "nbformat": 4,
 "nbformat_minor": 5
}
