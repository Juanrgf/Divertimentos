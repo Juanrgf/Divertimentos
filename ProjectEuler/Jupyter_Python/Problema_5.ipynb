{
 "cells": [
  {
   "cell_type": "markdown",
   "id": "146391b4",
   "metadata": {},
   "source": [
    "# Project Euler\n",
    "## Problema 5\n",
    "\n",
    "El problema 5 dice lo siguiente:\n",
    "\n",
    "---\n",
    "*2520 is the smallest number that can be divided by each of the numbers from 1 to 10 without any remainder.*\n",
    "\n",
    "*What is the smallest positive number that is evenly divisible by all of the numbers from 1 to 20?*\n",
    "\n",
    "---"
   ]
  },
  {
   "cell_type": "markdown",
   "id": "686f9fae",
   "metadata": {},
   "source": [
    "El problema nos pide encontrar el número más pequeño que sea divisible por todos los números del 1 al 20.\n",
    "\n",
    "Construyamos pues ese número de la siguiente forma:\n",
    "- Claramente dicho número debe de tener el producto de los números primos menores o iguales a él, pues estos números no admiten descomposición.\n",
    "- Luego, para los números no primos menores a dicho número debemos de ser capaces de factorizarlo de forma que solamente agreguemos los factores que nos faltan."
   ]
  },
  {
   "cell_type": "markdown",
   "id": "1f6b1755",
   "metadata": {},
   "source": [
    "Veamos cómo se construiría este número para el ejemplo que se pone de números del 1 al 10:\n",
    "\n",
    "- Primero, los primos menores o iguales a 10 son: 2, 3, 5, 7, así el número con el que iniciamos es el producto, o sea 210.\n",
    "- Luego vamos con los no primos menores o iguales a 10. Comenzamos con el 4, el cual se puede descomponer como producto de 2 por 2, sin embargo un 2 ya se tiene de la construcción inicial, por lo que solamente multiplicamos por otro 2. Así tenemos 420.\n",
    "- El siguiente número es 6, el cual es producto de 3 por 2, los cuales ya tenemos contemplados, siguiente.\n",
    "- El siguiente número es 8, el cual es producto de 4 por 2, sin embargo el 4 ya se ha agregado, por lo que solamente tenemos que agregar otro 2 para tener el 8. Así se tiene 840.\n",
    "- El siguiente número es 9, el cual es producto de 3 por 3. Ya se tiene un 3 desde el inicio, por lo que solamente basta agregar un 3 más, así se tiene el número 2520.\n",
    "- Finalmente el 10 se puede ver como producto de 5 por 2, los cuales ya están incluidos en la lista, por lo que no se requiere agregar nada.\n",
    "\n",
    "Así se tiene que el número 2520 es divisible por todos los números del 1 al 10."
   ]
  },
  {
   "cell_type": "markdown",
   "id": "ae3a339c",
   "metadata": {},
   "source": [
    "Programemos esto pues. Así debemos comenzar con una función que nos diga cuando un número es primo y cuando no:"
   ]
  },
  {
   "cell_type": "code",
   "execution_count": 1,
   "id": "0c2f8028",
   "metadata": {},
   "outputs": [],
   "source": [
    "def primo_ind(num):\n",
    "    for i in range(2, num):\n",
    "        if num%i == 0:\n",
    "            return False\n",
    "    return True"
   ]
  },
  {
   "cell_type": "markdown",
   "id": "78b48b03",
   "metadata": {},
   "source": [
    "La función ```primo_ind``` es una función que recibe un número entero y devuelve ```True``` o ```False``` dependiendo si dicho número es primo o no. \n",
    "\n",
    "Con esta función ya podemos listar los primos menores o iguales a 20:"
   ]
  },
  {
   "cell_type": "code",
   "execution_count": 2,
   "id": "fd98452f",
   "metadata": {},
   "outputs": [
    {
     "data": {
      "text/plain": [
       "[2, 3, 5, 7, 11, 13, 17, 19]"
      ]
     },
     "execution_count": 2,
     "metadata": {},
     "output_type": "execute_result"
    }
   ],
   "source": [
    "num = 20\n",
    "primos = list(filter(primo_ind, range(2,num+1)))\n",
    "primos"
   ]
  },
  {
   "cell_type": "markdown",
   "id": "484441f6",
   "metadata": {},
   "source": [
    "Con esta lista también podemos encontrar los no primos menores a 20:"
   ]
  },
  {
   "cell_type": "code",
   "execution_count": 3,
   "id": "9abb0504",
   "metadata": {},
   "outputs": [
    {
     "data": {
      "text/plain": [
       "[4, 6, 8, 9, 10, 12, 14, 15, 16, 18, 20]"
      ]
     },
     "execution_count": 3,
     "metadata": {},
     "output_type": "execute_result"
    }
   ],
   "source": [
    "no_primos = [i for i in range(2, num+1) if i not in primos]\n",
    "no_primos"
   ]
  },
  {
   "cell_type": "markdown",
   "id": "0ef0e7c3",
   "metadata": {},
   "source": [
    "Esta última lista es la que usaremos para ir agregando factores a la lista de primos. Pero para hacer esto requerimos de una función que nos descomponga un número en sus factores primos:"
   ]
  },
  {
   "cell_type": "code",
   "execution_count": 4,
   "id": "255d64fe",
   "metadata": {},
   "outputs": [],
   "source": [
    "def decomp(num, l):\n",
    "    if primo_ind(num) == True:\n",
    "        l.append(num)\n",
    "        return l\n",
    "    else:\n",
    "        for i in range(2, num):\n",
    "            if num%i == 0 and primo_ind(i) == True:\n",
    "                l.append(i)\n",
    "                return decomp(num//i, l)"
   ]
  },
  {
   "cell_type": "markdown",
   "id": "4e1d097e",
   "metadata": {},
   "source": [
    "La función ```decomp``` tiene dos argumentos: el primero es un número entero el cual va a descomponer en factores, el segundo argumento es una lista en la cual se va a almacenar la descomposición. Veamos de ejemplo cual es la descomposición en factores del número 12:"
   ]
  },
  {
   "cell_type": "code",
   "execution_count": 5,
   "id": "770871be",
   "metadata": {},
   "outputs": [
    {
     "data": {
      "text/plain": [
       "[2, 2, 3]"
      ]
     },
     "execution_count": 5,
     "metadata": {},
     "output_type": "execute_result"
    }
   ],
   "source": [
    "decomp(12, [])"
   ]
  },
  {
   "cell_type": "markdown",
   "id": "89ebfec3",
   "metadata": {},
   "source": [
    "Ya con esta función podemos descomponer en factores cada número de la lista de ```no_primos```. Ahora toca resolver otro problema pues antes de agregar los factores de un número a la lista principal (en este caso la lista ```primos```) debemos de asegurarnos de no agregar repetidos. Por ejemplo la descomposición de 4 es 2 por 2, pero un 2 ya se encuentra en la lista original, por lo que solo se requiere agregar un 2.\n",
    "\n",
    "Con esto en mente debemos crear una función que agregue los términos necesarios:"
   ]
  },
  {
   "cell_type": "code",
   "execution_count": 6,
   "id": "99ff645e",
   "metadata": {},
   "outputs": [],
   "source": [
    "def compare_and_extend(list1, list2):\n",
    "    l1, l2 = list1.copy(), list2.copy() \n",
    "    for item in list2:\n",
    "        if item in l1:\n",
    "            index_l1 = l1.index(item)\n",
    "            index_l2 = l2.index(item)\n",
    "            l1.pop(index_l1)\n",
    "            l2.pop(index_l2)\n",
    "    l = list1 + l2\n",
    "    return l"
   ]
  },
  {
   "cell_type": "markdown",
   "id": "77a8d47a",
   "metadata": {},
   "source": [
    "La función ```compare_and_extend``` recibe de argumentos dos listas y regresa una lista aumentada sin tomar en cuanta los elementos que ya se tienen. Veamos un ejemplo para dejar las cosas claras:"
   ]
  },
  {
   "cell_type": "code",
   "execution_count": 7,
   "id": "c20e348f",
   "metadata": {},
   "outputs": [
    {
     "data": {
      "text/plain": [
       "[1, 2, 3, 3, 2]"
      ]
     },
     "execution_count": 7,
     "metadata": {},
     "output_type": "execute_result"
    }
   ],
   "source": [
    "l1 = [1, 2, 3]\n",
    "l2 = [2, 3, 3, 2]\n",
    "compare_and_extend(l1, l2)"
   ]
  },
  {
   "cell_type": "markdown",
   "id": "44a2d18d",
   "metadata": {},
   "source": [
    "Así por ejemplo al aplicar la función a las listas ```l1``` y ```l2``` la función retorna una lista con los elementos de ```l1``` y además los elementos de ```l2``` que no están en ```l1```."
   ]
  },
  {
   "cell_type": "markdown",
   "id": "7c4b414d",
   "metadata": {},
   "source": [
    "Ya con estas funciones estamos listos para resolver el problema. Así empezamos descomponiendo en factores los números de la lista ```no_primos```. Ya con la descomposición solamente agregamos a la lista ```primos``` los factores que requerimos. Así se tiene finalmente una lista de los factores mínimos:"
   ]
  },
  {
   "cell_type": "code",
   "execution_count": 8,
   "id": "ab2f1b1e",
   "metadata": {},
   "outputs": [
    {
     "name": "stdout",
     "output_type": "stream",
     "text": [
      "[2, 3, 5, 7, 11, 13, 17, 19, 2, 2, 3, 2]\n"
     ]
    }
   ],
   "source": [
    "for num in no_primos:\n",
    "    lista_decomp = decomp(num, [])\n",
    "    lista_final = compare_and_extend(primos, lista_decomp)\n",
    "    primos = lista_final\n",
    "print(lista_final)"
   ]
  },
  {
   "cell_type": "markdown",
   "id": "4b0036c2",
   "metadata": {},
   "source": [
    "El número buscado es el producto de los números de la lista anterior, así que solo basta multiplicarlos. Para ello hacemos otra función que nos multiplique los elementos de una lista:"
   ]
  },
  {
   "cell_type": "code",
   "execution_count": 9,
   "id": "dbdd3d71",
   "metadata": {},
   "outputs": [],
   "source": [
    "def prod_list(list1):\n",
    "    num = 1\n",
    "    for i in list1:\n",
    "        num *= i\n",
    "    return num"
   ]
  },
  {
   "cell_type": "code",
   "execution_count": 10,
   "id": "07bcf0a3",
   "metadata": {},
   "outputs": [
    {
     "name": "stdout",
     "output_type": "stream",
     "text": [
      "El número más pequeño que es divisible por todos los números menores o igual a 20 es 232792560\n"
     ]
    }
   ],
   "source": [
    "res = prod_list(lista_final)\n",
    "print(f'El número más pequeño que es divisible por todos los números menores o igual a {num} es {res}')"
   ]
  },
  {
   "cell_type": "markdown",
   "id": "5eb9acab",
   "metadata": {},
   "source": [
    "Por lejos este ha sido el problema más complicado de implementar hasta ahora."
   ]
  }
 ],
 "metadata": {
  "kernelspec": {
   "display_name": "Python 3 (ipykernel)",
   "language": "python",
   "name": "python3"
  },
  "language_info": {
   "codemirror_mode": {
    "name": "ipython",
    "version": 3
   },
   "file_extension": ".py",
   "mimetype": "text/x-python",
   "name": "python",
   "nbconvert_exporter": "python",
   "pygments_lexer": "ipython3",
   "version": "3.9.7"
  }
 },
 "nbformat": 4,
 "nbformat_minor": 5
}
