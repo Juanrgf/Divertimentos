{
 "cells": [
  {
   "cell_type": "markdown",
   "id": "c93300b7",
   "metadata": {},
   "source": [
    "# Project Euler\n",
    "## Problema 8\n",
    "\n",
    "El problema 8 dice lo siguiente:\n",
    "\n",
    "---\n",
    "\n",
    "*The four adjacent digits in the 1000-digit number that have the greatest product are 9 × 9 × 8 × 9 = 5832.*\n",
    "\n",
    "73167176531330624919225119674426574742355349194934\n",
    "\n",
    "96983520312774506326239578318016984801869478851843\n",
    "\n",
    "85861560789112949495459501737958331952853208805511\n",
    "\n",
    "12540698747158523863050715693290963295227443043557\n",
    "\n",
    "66896648950445244523161731856403098711121722383113\n",
    "\n",
    "62229893423380308135336276614282806444486645238749\n",
    "\n",
    "30358907296290491560440772390713810515859307960866\n",
    "\n",
    "70172427121883998797908792274921901699720888093776\n",
    "\n",
    "65727333001053367881220235421809751254540594752243\n",
    "\n",
    "52584907711670556013604839586446706324415722155397\n",
    "\n",
    "53697817977846174064955149290862569321978468622482\n",
    "\n",
    "83972241375657056057490261407972968652414535100474\n",
    "\n",
    "82166370484403199890008895243450658541227588666881\n",
    "\n",
    "16427171479924442928230863465674813919123162824586\n",
    "\n",
    "17866458359124566529476545682848912883142607690042\n",
    "\n",
    "24219022671055626321111109370544217506941658960408\n",
    "\n",
    "07198403850962455444362981230987879927244284909188\n",
    "\n",
    "84580156166097919133875499200524063689912560717606\n",
    "\n",
    "05886116467109405077541002256983155200055935729725\n",
    "\n",
    "71636269561882670428252483600823257530420752963450\n",
    "\n",
    "\n",
    "*Find the thirteen adjacent digits in the 1000-digit number that have the greatest product. What is the value of* *this product?*\n",
    "\n",
    "---"
   ]
  },
  {
   "cell_type": "markdown",
   "id": "a92ad818",
   "metadata": {},
   "source": [
    "Para variar un poco implementemos este problema de una manera distinta. Para eso la matriz de números la guardé en una carpeta llamada ```data``` que se encuentra junto a los cuadernos de problemas. Vamos a abrir el archivo:"
   ]
  },
  {
   "cell_type": "code",
   "execution_count": 1,
   "id": "38006093",
   "metadata": {},
   "outputs": [],
   "source": [
    "file_path = 'data/p8.txt'\n",
    "with open(file_path, 'r') as f:\n",
    "    lines = f.read().splitlines()"
   ]
  },
  {
   "cell_type": "markdown",
   "id": "bbfd243a",
   "metadata": {},
   "source": [
    "El archivo ya fue cargado, veamos sus dimensiones:"
   ]
  },
  {
   "cell_type": "code",
   "execution_count": 2,
   "id": "458e40c6",
   "metadata": {},
   "outputs": [
    {
     "name": "stdout",
     "output_type": "stream",
     "text": [
      "El archivo tiene 20 renglones y 50 columnas\n"
     ]
    }
   ],
   "source": [
    "print(f'El archivo tiene {len(lines)} renglones y {len(lines[0])} columnas')"
   ]
  },
  {
   "cell_type": "markdown",
   "id": "6950e6cf",
   "metadata": {},
   "source": [
    "El problema dice que se trata de un número de 1000 dígitos, por lo que debemos concatenar dichos números. Para ello hagamos una función que reciba nuestra matriz de números y los concatene:"
   ]
  },
  {
   "cell_type": "code",
   "execution_count": 3,
   "id": "0284b09a",
   "metadata": {},
   "outputs": [],
   "source": [
    "def concat_lines(lines):\n",
    "    big_num = ''\n",
    "    for i in range(len(lines)):\n",
    "        big_num += lines[i]\n",
    "    return big_num"
   ]
  },
  {
   "cell_type": "markdown",
   "id": "5279762b",
   "metadata": {},
   "source": [
    "Así la función ```concat_lines``` recibe nuestra lista ```lines``` y concatena los renglones. Probemosla con nuestro archivo:"
   ]
  },
  {
   "cell_type": "code",
   "execution_count": 4,
   "id": "2756e250",
   "metadata": {
    "scrolled": false
   },
   "outputs": [
    {
     "data": {
      "text/plain": [
       "'7316717653133062491922511967442657474235534919493496983520312774506326239578318016984801869478851843858615607891129494954595017379583319528532088055111254069874715852386305071569329096329522744304355766896648950445244523161731856403098711121722383113622298934233803081353362766142828064444866452387493035890729629049156044077239071381051585930796086670172427121883998797908792274921901699720888093776657273330010533678812202354218097512545405947522435258490771167055601360483958644670632441572215539753697817977846174064955149290862569321978468622482839722413756570560574902614079729686524145351004748216637048440319989000889524345065854122758866688116427171479924442928230863465674813919123162824586178664583591245665294765456828489128831426076900422421902267105562632111110937054421750694165896040807198403850962455444362981230987879927244284909188845801561660979191338754992005240636899125607176060588611646710940507754100225698315520005593572972571636269561882670428252483600823257530420752963450'"
      ]
     },
     "execution_count": 4,
     "metadata": {},
     "output_type": "execute_result"
    }
   ],
   "source": [
    "big_num = concat_lines(lines)\n",
    "big_num"
   ]
  },
  {
   "cell_type": "markdown",
   "id": "c3cd19de",
   "metadata": {},
   "source": [
    "Algo que hay que notar es que el número gigante es una cadena. Lo siguiente será ir agrupando en grupos de 13 números para ir multiplicando. Para multiplicar esos 13 números hagamos una función que multiplique los elementos de una lista. Una función similar ya había sido construida en otro problema, pero dado que no es tan complicada implementarla nuevamente volvamos a crearla: "
   ]
  },
  {
   "cell_type": "code",
   "execution_count": 5,
   "id": "4f35f474",
   "metadata": {},
   "outputs": [],
   "source": [
    "def prod_list(num_str):\n",
    "    lista = [int(i) for i in num_str]\n",
    "    prod = 1\n",
    "    for item in lista:\n",
    "        prod *= item\n",
    "    return prod"
   ]
  },
  {
   "cell_type": "markdown",
   "id": "7d2be767",
   "metadata": {},
   "source": [
    "Ya con todo esto implementado encontremos los productos de los bloques de trece:"
   ]
  },
  {
   "cell_type": "code",
   "execution_count": 6,
   "id": "90ab0217",
   "metadata": {},
   "outputs": [
    {
     "name": "stdout",
     "output_type": "stream",
     "text": [
      "Se han realizado 987 productos\n"
     ]
    }
   ],
   "source": [
    "num = 13\n",
    "prods = [prod_list(big_num[i:i+num]) for i in range(len(big_num)-num)]\n",
    "print(f'Se han realizado {len(prods)} productos')"
   ]
  },
  {
   "cell_type": "markdown",
   "id": "a4ee812d",
   "metadata": {},
   "source": [
    "Dado que la lista es muy larga solo mostraremos el número más grande:"
   ]
  },
  {
   "cell_type": "code",
   "execution_count": 7,
   "id": "3cb216c9",
   "metadata": {},
   "outputs": [
    {
     "name": "stdout",
     "output_type": "stream",
     "text": [
      "El producto más grande de 13 números adyacentes es 23514624000\n"
     ]
    }
   ],
   "source": [
    "print(f'El producto más grande de {num} números adyacentes es {max(prods)}')"
   ]
  }
 ],
 "metadata": {
  "kernelspec": {
   "display_name": "Python 3 (ipykernel)",
   "language": "python",
   "name": "python3"
  },
  "language_info": {
   "codemirror_mode": {
    "name": "ipython",
    "version": 3
   },
   "file_extension": ".py",
   "mimetype": "text/x-python",
   "name": "python",
   "nbconvert_exporter": "python",
   "pygments_lexer": "ipython3",
   "version": "3.9.7"
  }
 },
 "nbformat": 4,
 "nbformat_minor": 5
}
