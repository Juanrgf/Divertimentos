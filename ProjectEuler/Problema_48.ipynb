{
 "cells": [
  {
   "cell_type": "markdown",
   "id": "55072478-fdf0-48da-815e-d6ff69f6f66a",
   "metadata": {},
   "source": [
    "# Project Euler\n",
    "## Problema 48\n",
    "\n",
    "El problema 48 dice lo siguiente:\n",
    "\n",
    "---\n",
    "*The series, $1^1 + 2^2 + 3^3 + \\dots + 10^{10} = 10405071317$.*\n",
    "\n",
    "*Find the last ten digits of the series, $1^1 + 2^2 + 3^3 + \\dots + 1000^{1000}$.*\n",
    "\n",
    "---"
   ]
  },
  {
   "cell_type": "markdown",
   "id": "669f9678-0c43-48cf-9847-dab3bf2e4f76",
   "metadata": {},
   "source": [
    "El problema es sencillo de resolver. Para esto hagamos una función que sume potencias de números:"
   ]
  },
  {
   "cell_type": "code",
   "execution_count": 1,
   "id": "efd6f7f6-60ff-44e3-8b75-0f6a5dbe2778",
   "metadata": {},
   "outputs": [],
   "source": [
    "def self_power(num):\n",
    "    if num == 1:\n",
    "        return 1\n",
    "    else:\n",
    "        return num**num + self_power(num-1)"
   ]
  },
  {
   "cell_type": "markdown",
   "id": "819ffc28-4b0d-4735-902c-f4a0d144570a",
   "metadata": {},
   "source": [
    "Así la función ```self_power``` recibe un número y retorna la suma de las auto potencias menores e iguales a dicho número. Probemos la función con el ejemplo:"
   ]
  },
  {
   "cell_type": "code",
   "execution_count": 2,
   "id": "fe8ef0e9-dd41-4aee-bffa-41c526e91d2c",
   "metadata": {},
   "outputs": [
    {
     "data": {
      "text/plain": [
       "10405071317"
      ]
     },
     "execution_count": 2,
     "metadata": {},
     "output_type": "execute_result"
    }
   ],
   "source": [
    "self_power(10)"
   ]
  },
  {
   "cell_type": "markdown",
   "id": "defeb8be-571b-4da6-ba1f-05f5c0b7b277",
   "metadata": {},
   "source": [
    "Ahora calculemos la solución del problema."
   ]
  },
  {
   "cell_type": "code",
   "execution_count": 3,
   "id": "e2e179a2-495f-4656-8d79-7405a60c8251",
   "metadata": {},
   "outputs": [],
   "source": [
    "num = 1_000\n",
    "res = str(self_power(num))[-10:]"
   ]
  },
  {
   "cell_type": "code",
   "execution_count": 4,
   "id": "fad0eba7-7d20-46f3-94c1-9aee0d055c66",
   "metadata": {},
   "outputs": [
    {
     "name": "stdout",
     "output_type": "stream",
     "text": [
      "Los últimos diez dígitos de la suma de las auto potencias menores o iguales a 1000 es 9110846700\n"
     ]
    }
   ],
   "source": [
    "print(f'Los últimos diez dígitos de la suma de las auto potencias menores o iguales a {num} es {res}')"
   ]
  }
 ],
 "metadata": {
  "kernelspec": {
   "display_name": "Python 3 (ipykernel)",
   "language": "python",
   "name": "python3"
  },
  "language_info": {
   "codemirror_mode": {
    "name": "ipython",
    "version": 3
   },
   "file_extension": ".py",
   "mimetype": "text/x-python",
   "name": "python",
   "nbconvert_exporter": "python",
   "pygments_lexer": "ipython3",
   "version": "3.9.7"
  }
 },
 "nbformat": 4,
 "nbformat_minor": 5
}
